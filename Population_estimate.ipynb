{
  "nbformat": 4,
  "nbformat_minor": 0,
  "metadata": {
    "colab": {
      "name": "Homework 1",
      "version": "0.3.2",
      "provenance": [],
      "collapsed_sections": []
    },
    "kernelspec": {
      "name": "python3",
      "display_name": "Python 3"
    }
  },
  "cells": [
    {
      "metadata": {
        "id": "fq-PohzzwXzL",
        "colab_type": "text"
      },
      "cell_type": "markdown",
      "source": [
        "#Homework 1"
      ]
    },
    {
      "metadata": {
        "id": "nmi8rJF0Q6G4",
        "colab_type": "text"
      },
      "cell_type": "markdown",
      "source": [
        "Importing data"
      ]
    },
    {
      "metadata": {
        "id": "gF0izeX6ihKp",
        "colab_type": "code",
        "outputId": "d64cd07b-d8f3-46d9-8c34-d824f23e8bc5",
        "colab": {
          "base_uri": "https://localhost:8080/",
          "height": 202
        }
      },
      "cell_type": "code",
      "source": [
        "from pandas import read_excel\n",
        "#make sure url is a download link, not a share link!\n",
        "import pandas as pd\n",
        "\n",
        "url = \"https://drive.google.com/uc?export=download&id=1k9olZRMt6Tb33XvrQwUMBbzu_Z-xUBdC \"\n",
        "df =  read_excel(url, header=0)\n",
        "dataset = df.values \n",
        "\n",
        "df.head()"
      ],
      "execution_count": 2,
      "outputs": [
        {
          "output_type": "execute_result",
          "data": {
            "text/html": [
              "<div>\n",
              "<style scoped>\n",
              "    .dataframe tbody tr th:only-of-type {\n",
              "        vertical-align: middle;\n",
              "    }\n",
              "\n",
              "    .dataframe tbody tr th {\n",
              "        vertical-align: top;\n",
              "    }\n",
              "\n",
              "    .dataframe thead th {\n",
              "        text-align: right;\n",
              "    }\n",
              "</style>\n",
              "<table border=\"1\" class=\"dataframe\">\n",
              "  <thead>\n",
              "    <tr style=\"text-align: right;\">\n",
              "      <th></th>\n",
              "      <th>Month</th>\n",
              "      <th>Q0</th>\n",
              "      <th>Q1</th>\n",
              "      <th>Q2pt5</th>\n",
              "      <th>Q5</th>\n",
              "      <th>Q10</th>\n",
              "      <th>Q25</th>\n",
              "      <th>Q50</th>\n",
              "      <th>Q75</th>\n",
              "      <th>Q90</th>\n",
              "      <th>Q95</th>\n",
              "      <th>Q97pt5</th>\n",
              "      <th>Q99</th>\n",
              "      <th>Q100</th>\n",
              "      <th>STNAME</th>\n",
              "      <th>CTYNAME</th>\n",
              "      <th>POPESTIMATE2015</th>\n",
              "    </tr>\n",
              "  </thead>\n",
              "  <tbody>\n",
              "    <tr>\n",
              "      <th>0</th>\n",
              "      <td>JUL</td>\n",
              "      <td>0.00</td>\n",
              "      <td>0.00</td>\n",
              "      <td>0.00</td>\n",
              "      <td>0.00</td>\n",
              "      <td>0.00</td>\n",
              "      <td>0.00</td>\n",
              "      <td>0.00</td>\n",
              "      <td>0.00</td>\n",
              "      <td>0.00</td>\n",
              "      <td>0.000</td>\n",
              "      <td>0.00000</td>\n",
              "      <td>0.0000</td>\n",
              "      <td>0.000000</td>\n",
              "      <td>Maryland</td>\n",
              "      <td>Allegany</td>\n",
              "      <td>72498</td>\n",
              "    </tr>\n",
              "    <tr>\n",
              "      <th>1</th>\n",
              "      <td>JUL</td>\n",
              "      <td>0.02</td>\n",
              "      <td>0.08</td>\n",
              "      <td>0.09</td>\n",
              "      <td>0.11</td>\n",
              "      <td>0.13</td>\n",
              "      <td>0.18</td>\n",
              "      <td>0.30</td>\n",
              "      <td>0.72</td>\n",
              "      <td>1.89</td>\n",
              "      <td>4.110</td>\n",
              "      <td>10.37625</td>\n",
              "      <td>18.9790</td>\n",
              "      <td>95.500000</td>\n",
              "      <td>Alabama</td>\n",
              "      <td>Russell</td>\n",
              "      <td>58847</td>\n",
              "    </tr>\n",
              "    <tr>\n",
              "      <th>2</th>\n",
              "      <td>JUL</td>\n",
              "      <td>0.10</td>\n",
              "      <td>0.15</td>\n",
              "      <td>0.16</td>\n",
              "      <td>0.18</td>\n",
              "      <td>0.20</td>\n",
              "      <td>0.23</td>\n",
              "      <td>0.30</td>\n",
              "      <td>0.46</td>\n",
              "      <td>0.82</td>\n",
              "      <td>1.363</td>\n",
              "      <td>3.11650</td>\n",
              "      <td>7.0808</td>\n",
              "      <td>42.669998</td>\n",
              "      <td>Georgia</td>\n",
              "      <td>Meriwether</td>\n",
              "      <td>21186</td>\n",
              "    </tr>\n",
              "    <tr>\n",
              "      <th>3</th>\n",
              "      <td>JUL</td>\n",
              "      <td>-0.04</td>\n",
              "      <td>0.03</td>\n",
              "      <td>0.04</td>\n",
              "      <td>0.05</td>\n",
              "      <td>0.07</td>\n",
              "      <td>0.12</td>\n",
              "      <td>0.21</td>\n",
              "      <td>0.47</td>\n",
              "      <td>0.92</td>\n",
              "      <td>1.500</td>\n",
              "      <td>2.93425</td>\n",
              "      <td>8.3137</td>\n",
              "      <td>203.500000</td>\n",
              "      <td>Louisiana</td>\n",
              "      <td>Cameron Parish</td>\n",
              "      <td>6815</td>\n",
              "    </tr>\n",
              "    <tr>\n",
              "      <th>4</th>\n",
              "      <td>JUL</td>\n",
              "      <td>0.00</td>\n",
              "      <td>0.00</td>\n",
              "      <td>0.00</td>\n",
              "      <td>0.00</td>\n",
              "      <td>0.00</td>\n",
              "      <td>0.00</td>\n",
              "      <td>0.00</td>\n",
              "      <td>0.00</td>\n",
              "      <td>0.00</td>\n",
              "      <td>0.000</td>\n",
              "      <td>0.00000</td>\n",
              "      <td>0.0000</td>\n",
              "      <td>0.000000</td>\n",
              "      <td>Iowa</td>\n",
              "      <td>Clarke</td>\n",
              "      <td>9227</td>\n",
              "    </tr>\n",
              "  </tbody>\n",
              "</table>\n",
              "</div>"
            ],
            "text/plain": [
              "  Month    Q0    Q1  Q2pt5    Q5   Q10   Q25   Q50   Q75   Q90    Q95  \\\n",
              "0   JUL  0.00  0.00   0.00  0.00  0.00  0.00  0.00  0.00  0.00  0.000   \n",
              "1   JUL  0.02  0.08   0.09  0.11  0.13  0.18  0.30  0.72  1.89  4.110   \n",
              "2   JUL  0.10  0.15   0.16  0.18  0.20  0.23  0.30  0.46  0.82  1.363   \n",
              "3   JUL -0.04  0.03   0.04  0.05  0.07  0.12  0.21  0.47  0.92  1.500   \n",
              "4   JUL  0.00  0.00   0.00  0.00  0.00  0.00  0.00  0.00  0.00  0.000   \n",
              "\n",
              "     Q97pt5      Q99        Q100     STNAME         CTYNAME  POPESTIMATE2015  \n",
              "0   0.00000   0.0000    0.000000   Maryland        Allegany            72498  \n",
              "1  10.37625  18.9790   95.500000    Alabama         Russell            58847  \n",
              "2   3.11650   7.0808   42.669998    Georgia      Meriwether            21186  \n",
              "3   2.93425   8.3137  203.500000  Louisiana  Cameron Parish             6815  \n",
              "4   0.00000   0.0000    0.000000       Iowa          Clarke             9227  "
            ]
          },
          "metadata": {
            "tags": []
          },
          "execution_count": 2
        }
      ]
    },
    {
      "metadata": {
        "id": "kZUWVwqEAlId",
        "colab_type": "code",
        "outputId": "ee59af63-1680-435f-a01b-79b4a62fae21",
        "colab": {
          "base_uri": "https://localhost:8080/",
          "height": 35
        }
      },
      "cell_type": "code",
      "source": [
        "#Check dimension of data\n",
        "df.shape"
      ],
      "execution_count": 3,
      "outputs": [
        {
          "output_type": "execute_result",
          "data": {
            "text/plain": [
              "(2500, 17)"
            ]
          },
          "metadata": {
            "tags": []
          },
          "execution_count": 3
        }
      ]
    },
    {
      "metadata": {
        "id": "FqjxBo19mhGL",
        "colab_type": "code",
        "outputId": "6f0c9951-ca65-4feb-fe6a-9bfca5549623",
        "colab": {
          "base_uri": "https://localhost:8080/",
          "height": 314
        }
      },
      "cell_type": "code",
      "source": [
        "#statistics of data\n",
        "df.describe()"
      ],
      "execution_count": 4,
      "outputs": [
        {
          "output_type": "execute_result",
          "data": {
            "text/html": [
              "<div>\n",
              "<style scoped>\n",
              "    .dataframe tbody tr th:only-of-type {\n",
              "        vertical-align: middle;\n",
              "    }\n",
              "\n",
              "    .dataframe tbody tr th {\n",
              "        vertical-align: top;\n",
              "    }\n",
              "\n",
              "    .dataframe thead th {\n",
              "        text-align: right;\n",
              "    }\n",
              "</style>\n",
              "<table border=\"1\" class=\"dataframe\">\n",
              "  <thead>\n",
              "    <tr style=\"text-align: right;\">\n",
              "      <th></th>\n",
              "      <th>Q0</th>\n",
              "      <th>Q1</th>\n",
              "      <th>Q2pt5</th>\n",
              "      <th>Q5</th>\n",
              "      <th>Q10</th>\n",
              "      <th>Q25</th>\n",
              "      <th>Q50</th>\n",
              "      <th>Q75</th>\n",
              "      <th>Q90</th>\n",
              "      <th>Q95</th>\n",
              "      <th>Q97pt5</th>\n",
              "      <th>Q99</th>\n",
              "      <th>Q100</th>\n",
              "      <th>POPESTIMATE2015</th>\n",
              "    </tr>\n",
              "  </thead>\n",
              "  <tbody>\n",
              "    <tr>\n",
              "      <th>count</th>\n",
              "      <td>2500.000000</td>\n",
              "      <td>2500.000000</td>\n",
              "      <td>2500.000000</td>\n",
              "      <td>2500.000000</td>\n",
              "      <td>2500.000000</td>\n",
              "      <td>2500.000000</td>\n",
              "      <td>2500.000000</td>\n",
              "      <td>2500.000000</td>\n",
              "      <td>2500.000000</td>\n",
              "      <td>2500.000000</td>\n",
              "      <td>2500.000000</td>\n",
              "      <td>2500.000000</td>\n",
              "      <td>2500.000000</td>\n",
              "      <td>2.500000e+03</td>\n",
              "    </tr>\n",
              "    <tr>\n",
              "      <th>mean</th>\n",
              "      <td>-0.002188</td>\n",
              "      <td>0.038799</td>\n",
              "      <td>0.053699</td>\n",
              "      <td>0.070809</td>\n",
              "      <td>0.097120</td>\n",
              "      <td>0.174372</td>\n",
              "      <td>0.351830</td>\n",
              "      <td>0.783197</td>\n",
              "      <td>1.777998</td>\n",
              "      <td>2.982530</td>\n",
              "      <td>4.716755</td>\n",
              "      <td>8.087240</td>\n",
              "      <td>39.663584</td>\n",
              "      <td>1.058292e+05</td>\n",
              "    </tr>\n",
              "    <tr>\n",
              "      <th>std</th>\n",
              "      <td>0.141941</td>\n",
              "      <td>0.171293</td>\n",
              "      <td>0.230851</td>\n",
              "      <td>0.304831</td>\n",
              "      <td>0.425011</td>\n",
              "      <td>0.825364</td>\n",
              "      <td>1.685318</td>\n",
              "      <td>3.355028</td>\n",
              "      <td>6.304048</td>\n",
              "      <td>8.998663</td>\n",
              "      <td>12.084223</td>\n",
              "      <td>17.355886</td>\n",
              "      <td>98.100495</td>\n",
              "      <td>3.532298e+05</td>\n",
              "    </tr>\n",
              "    <tr>\n",
              "      <th>min</th>\n",
              "      <td>-0.580000</td>\n",
              "      <td>-0.280000</td>\n",
              "      <td>-0.180000</td>\n",
              "      <td>-0.120000</td>\n",
              "      <td>-0.070000</td>\n",
              "      <td>-0.020000</td>\n",
              "      <td>0.000000</td>\n",
              "      <td>0.000000</td>\n",
              "      <td>0.000000</td>\n",
              "      <td>0.000000</td>\n",
              "      <td>0.000000</td>\n",
              "      <td>0.000000</td>\n",
              "      <td>0.000000</td>\n",
              "      <td>8.800000e+01</td>\n",
              "    </tr>\n",
              "    <tr>\n",
              "      <th>25%</th>\n",
              "      <td>-0.010000</td>\n",
              "      <td>0.000000</td>\n",
              "      <td>0.000000</td>\n",
              "      <td>0.000000</td>\n",
              "      <td>0.000000</td>\n",
              "      <td>0.000000</td>\n",
              "      <td>0.000000</td>\n",
              "      <td>0.000000</td>\n",
              "      <td>0.000000</td>\n",
              "      <td>0.000000</td>\n",
              "      <td>0.000000</td>\n",
              "      <td>0.000000</td>\n",
              "      <td>0.000000</td>\n",
              "      <td>1.088100e+04</td>\n",
              "    </tr>\n",
              "    <tr>\n",
              "      <th>50%</th>\n",
              "      <td>0.000000</td>\n",
              "      <td>0.000000</td>\n",
              "      <td>0.000000</td>\n",
              "      <td>0.000000</td>\n",
              "      <td>0.000000</td>\n",
              "      <td>0.000000</td>\n",
              "      <td>0.000000</td>\n",
              "      <td>0.000000</td>\n",
              "      <td>0.000000</td>\n",
              "      <td>0.000000</td>\n",
              "      <td>0.000000</td>\n",
              "      <td>0.165000</td>\n",
              "      <td>0.585000</td>\n",
              "      <td>2.575600e+04</td>\n",
              "    </tr>\n",
              "    <tr>\n",
              "      <th>75%</th>\n",
              "      <td>0.000000</td>\n",
              "      <td>0.030000</td>\n",
              "      <td>0.050000</td>\n",
              "      <td>0.070000</td>\n",
              "      <td>0.090000</td>\n",
              "      <td>0.140000</td>\n",
              "      <td>0.230000</td>\n",
              "      <td>0.420000</td>\n",
              "      <td>0.860000</td>\n",
              "      <td>1.583250</td>\n",
              "      <td>3.291500</td>\n",
              "      <td>8.595625</td>\n",
              "      <td>50.370000</td>\n",
              "      <td>7.043000e+04</td>\n",
              "    </tr>\n",
              "    <tr>\n",
              "      <th>max</th>\n",
              "      <td>2.610000</td>\n",
              "      <td>2.773600</td>\n",
              "      <td>6.000000</td>\n",
              "      <td>7.636000</td>\n",
              "      <td>10.530000</td>\n",
              "      <td>17.709999</td>\n",
              "      <td>32.000000</td>\n",
              "      <td>50.889999</td>\n",
              "      <td>74.743997</td>\n",
              "      <td>97.989998</td>\n",
              "      <td>122.191002</td>\n",
              "      <td>191.830002</td>\n",
              "      <td>2209.040039</td>\n",
              "      <td>1.012325e+07</td>\n",
              "    </tr>\n",
              "  </tbody>\n",
              "</table>\n",
              "</div>"
            ],
            "text/plain": [
              "                Q0           Q1        Q2pt5           Q5          Q10  \\\n",
              "count  2500.000000  2500.000000  2500.000000  2500.000000  2500.000000   \n",
              "mean     -0.002188     0.038799     0.053699     0.070809     0.097120   \n",
              "std       0.141941     0.171293     0.230851     0.304831     0.425011   \n",
              "min      -0.580000    -0.280000    -0.180000    -0.120000    -0.070000   \n",
              "25%      -0.010000     0.000000     0.000000     0.000000     0.000000   \n",
              "50%       0.000000     0.000000     0.000000     0.000000     0.000000   \n",
              "75%       0.000000     0.030000     0.050000     0.070000     0.090000   \n",
              "max       2.610000     2.773600     6.000000     7.636000    10.530000   \n",
              "\n",
              "               Q25          Q50          Q75          Q90          Q95  \\\n",
              "count  2500.000000  2500.000000  2500.000000  2500.000000  2500.000000   \n",
              "mean      0.174372     0.351830     0.783197     1.777998     2.982530   \n",
              "std       0.825364     1.685318     3.355028     6.304048     8.998663   \n",
              "min      -0.020000     0.000000     0.000000     0.000000     0.000000   \n",
              "25%       0.000000     0.000000     0.000000     0.000000     0.000000   \n",
              "50%       0.000000     0.000000     0.000000     0.000000     0.000000   \n",
              "75%       0.140000     0.230000     0.420000     0.860000     1.583250   \n",
              "max      17.709999    32.000000    50.889999    74.743997    97.989998   \n",
              "\n",
              "            Q97pt5          Q99         Q100  POPESTIMATE2015  \n",
              "count  2500.000000  2500.000000  2500.000000     2.500000e+03  \n",
              "mean      4.716755     8.087240    39.663584     1.058292e+05  \n",
              "std      12.084223    17.355886    98.100495     3.532298e+05  \n",
              "min       0.000000     0.000000     0.000000     8.800000e+01  \n",
              "25%       0.000000     0.000000     0.000000     1.088100e+04  \n",
              "50%       0.000000     0.165000     0.585000     2.575600e+04  \n",
              "75%       3.291500     8.595625    50.370000     7.043000e+04  \n",
              "max     122.191002   191.830002  2209.040039     1.012325e+07  "
            ]
          },
          "metadata": {
            "tags": []
          },
          "execution_count": 4
        }
      ]
    },
    {
      "metadata": {
        "id": "78L50Um_Bfma",
        "colab_type": "code",
        "outputId": "1a6ff7f9-60b1-4e41-f205-d073ced5f820",
        "colab": {
          "base_uri": "https://localhost:8080/",
          "height": 393
        }
      },
      "cell_type": "code",
      "source": [
        "#Replacing negative brightness values with 0\n",
        "check_feat = ['Q0', 'Q1', 'Q2pt5', 'Q5', 'Q10', 'Q25', 'Q50', 'Q75', 'Q90',\n",
        "       'Q95', 'Q97pt5', 'Q99', 'Q100']\n",
        "df1 = df[check_feat] #subsetting only numeric features,NTL variables \n",
        "df1[df1<0]=0\n",
        "df1\n",
        "\n",
        "#Count of zeros in dataframe\n",
        "sum(x<0 for x in df1.values.flatten())\n",
        "\n",
        "df2 = df[['Month', 'STNAME', 'CTYNAME', 'POPESTIMATE2015']] #subset of rest of the columns\n",
        "\n",
        "df = pd.concat([df1,df2],axis =1) #combining both dataframes to make one dataframe\n",
        "df.head()\n",
        "\n"
      ],
      "execution_count": 5,
      "outputs": [
        {
          "output_type": "stream",
          "text": [
            "/usr/local/lib/python3.6/dist-packages/ipykernel_launcher.py:4: SettingWithCopyWarning: \n",
            "A value is trying to be set on a copy of a slice from a DataFrame.\n",
            "Try using .loc[row_indexer,col_indexer] = value instead\n",
            "\n",
            "See the caveats in the documentation: http://pandas.pydata.org/pandas-docs/stable/indexing.html#indexing-view-versus-copy\n",
            "  after removing the cwd from sys.path.\n",
            "/usr/local/lib/python3.6/dist-packages/pandas/core/frame.py:2554: SettingWithCopyWarning: \n",
            "A value is trying to be set on a copy of a slice from a DataFrame\n",
            "\n",
            "See the caveats in the documentation: http://pandas.pydata.org/pandas-docs/stable/indexing.html#indexing-view-versus-copy\n",
            "  self._where(-key, value, inplace=True)\n"
          ],
          "name": "stderr"
        },
        {
          "output_type": "execute_result",
          "data": {
            "text/html": [
              "<div>\n",
              "<style scoped>\n",
              "    .dataframe tbody tr th:only-of-type {\n",
              "        vertical-align: middle;\n",
              "    }\n",
              "\n",
              "    .dataframe tbody tr th {\n",
              "        vertical-align: top;\n",
              "    }\n",
              "\n",
              "    .dataframe thead th {\n",
              "        text-align: right;\n",
              "    }\n",
              "</style>\n",
              "<table border=\"1\" class=\"dataframe\">\n",
              "  <thead>\n",
              "    <tr style=\"text-align: right;\">\n",
              "      <th></th>\n",
              "      <th>Q0</th>\n",
              "      <th>Q1</th>\n",
              "      <th>Q2pt5</th>\n",
              "      <th>Q5</th>\n",
              "      <th>Q10</th>\n",
              "      <th>Q25</th>\n",
              "      <th>Q50</th>\n",
              "      <th>Q75</th>\n",
              "      <th>Q90</th>\n",
              "      <th>Q95</th>\n",
              "      <th>Q97pt5</th>\n",
              "      <th>Q99</th>\n",
              "      <th>Q100</th>\n",
              "      <th>Month</th>\n",
              "      <th>STNAME</th>\n",
              "      <th>CTYNAME</th>\n",
              "      <th>POPESTIMATE2015</th>\n",
              "    </tr>\n",
              "  </thead>\n",
              "  <tbody>\n",
              "    <tr>\n",
              "      <th>0</th>\n",
              "      <td>0.00</td>\n",
              "      <td>0.00</td>\n",
              "      <td>0.00</td>\n",
              "      <td>0.00</td>\n",
              "      <td>0.00</td>\n",
              "      <td>0.00</td>\n",
              "      <td>0.00</td>\n",
              "      <td>0.00</td>\n",
              "      <td>0.00</td>\n",
              "      <td>0.000</td>\n",
              "      <td>0.00000</td>\n",
              "      <td>0.0000</td>\n",
              "      <td>0.000000</td>\n",
              "      <td>JUL</td>\n",
              "      <td>Maryland</td>\n",
              "      <td>Allegany</td>\n",
              "      <td>72498</td>\n",
              "    </tr>\n",
              "    <tr>\n",
              "      <th>1</th>\n",
              "      <td>0.02</td>\n",
              "      <td>0.08</td>\n",
              "      <td>0.09</td>\n",
              "      <td>0.11</td>\n",
              "      <td>0.13</td>\n",
              "      <td>0.18</td>\n",
              "      <td>0.30</td>\n",
              "      <td>0.72</td>\n",
              "      <td>1.89</td>\n",
              "      <td>4.110</td>\n",
              "      <td>10.37625</td>\n",
              "      <td>18.9790</td>\n",
              "      <td>95.500000</td>\n",
              "      <td>JUL</td>\n",
              "      <td>Alabama</td>\n",
              "      <td>Russell</td>\n",
              "      <td>58847</td>\n",
              "    </tr>\n",
              "    <tr>\n",
              "      <th>2</th>\n",
              "      <td>0.10</td>\n",
              "      <td>0.15</td>\n",
              "      <td>0.16</td>\n",
              "      <td>0.18</td>\n",
              "      <td>0.20</td>\n",
              "      <td>0.23</td>\n",
              "      <td>0.30</td>\n",
              "      <td>0.46</td>\n",
              "      <td>0.82</td>\n",
              "      <td>1.363</td>\n",
              "      <td>3.11650</td>\n",
              "      <td>7.0808</td>\n",
              "      <td>42.669998</td>\n",
              "      <td>JUL</td>\n",
              "      <td>Georgia</td>\n",
              "      <td>Meriwether</td>\n",
              "      <td>21186</td>\n",
              "    </tr>\n",
              "    <tr>\n",
              "      <th>3</th>\n",
              "      <td>0.00</td>\n",
              "      <td>0.03</td>\n",
              "      <td>0.04</td>\n",
              "      <td>0.05</td>\n",
              "      <td>0.07</td>\n",
              "      <td>0.12</td>\n",
              "      <td>0.21</td>\n",
              "      <td>0.47</td>\n",
              "      <td>0.92</td>\n",
              "      <td>1.500</td>\n",
              "      <td>2.93425</td>\n",
              "      <td>8.3137</td>\n",
              "      <td>203.500000</td>\n",
              "      <td>JUL</td>\n",
              "      <td>Louisiana</td>\n",
              "      <td>Cameron Parish</td>\n",
              "      <td>6815</td>\n",
              "    </tr>\n",
              "    <tr>\n",
              "      <th>4</th>\n",
              "      <td>0.00</td>\n",
              "      <td>0.00</td>\n",
              "      <td>0.00</td>\n",
              "      <td>0.00</td>\n",
              "      <td>0.00</td>\n",
              "      <td>0.00</td>\n",
              "      <td>0.00</td>\n",
              "      <td>0.00</td>\n",
              "      <td>0.00</td>\n",
              "      <td>0.000</td>\n",
              "      <td>0.00000</td>\n",
              "      <td>0.0000</td>\n",
              "      <td>0.000000</td>\n",
              "      <td>JUL</td>\n",
              "      <td>Iowa</td>\n",
              "      <td>Clarke</td>\n",
              "      <td>9227</td>\n",
              "    </tr>\n",
              "  </tbody>\n",
              "</table>\n",
              "</div>"
            ],
            "text/plain": [
              "     Q0    Q1  Q2pt5    Q5   Q10   Q25   Q50   Q75   Q90    Q95    Q97pt5  \\\n",
              "0  0.00  0.00   0.00  0.00  0.00  0.00  0.00  0.00  0.00  0.000   0.00000   \n",
              "1  0.02  0.08   0.09  0.11  0.13  0.18  0.30  0.72  1.89  4.110  10.37625   \n",
              "2  0.10  0.15   0.16  0.18  0.20  0.23  0.30  0.46  0.82  1.363   3.11650   \n",
              "3  0.00  0.03   0.04  0.05  0.07  0.12  0.21  0.47  0.92  1.500   2.93425   \n",
              "4  0.00  0.00   0.00  0.00  0.00  0.00  0.00  0.00  0.00  0.000   0.00000   \n",
              "\n",
              "       Q99        Q100 Month     STNAME         CTYNAME  POPESTIMATE2015  \n",
              "0   0.0000    0.000000   JUL   Maryland        Allegany            72498  \n",
              "1  18.9790   95.500000   JUL    Alabama         Russell            58847  \n",
              "2   7.0808   42.669998   JUL    Georgia      Meriwether            21186  \n",
              "3   8.3137  203.500000   JUL  Louisiana  Cameron Parish             6815  \n",
              "4   0.0000    0.000000   JUL       Iowa          Clarke             9227  "
            ]
          },
          "metadata": {
            "tags": []
          },
          "execution_count": 5
        }
      ]
    },
    {
      "metadata": {
        "id": "VnYQ9L5oAs0B",
        "colab_type": "code",
        "colab": {
          "base_uri": "https://localhost:8080/",
          "height": 202
        },
        "outputId": "29a4e1eb-a9c9-4110-e904-b2c7c1d45df8"
      },
      "cell_type": "code",
      "source": [
        "# zero NTL counties\n",
        "df_0 = df[(df['Q0']==0) & (df['Q1']==0) & (df['Q2pt5']==0) & (df['Q5']==0) & (df['Q10']==0) & (df['Q25']==0) & (df['Q50']==0)\n",
        "   & (df['Q75']==0) & (df['Q95']==0) & (df['Q97pt5']==0) & (df['Q99']==0) & (df['Q100']==0) ]\n",
        " \n",
        "df_0.head()\n",
        " "
      ],
      "execution_count": 31,
      "outputs": [
        {
          "output_type": "execute_result",
          "data": {
            "text/html": [
              "<div>\n",
              "<style scoped>\n",
              "    .dataframe tbody tr th:only-of-type {\n",
              "        vertical-align: middle;\n",
              "    }\n",
              "\n",
              "    .dataframe tbody tr th {\n",
              "        vertical-align: top;\n",
              "    }\n",
              "\n",
              "    .dataframe thead th {\n",
              "        text-align: right;\n",
              "    }\n",
              "</style>\n",
              "<table border=\"1\" class=\"dataframe\">\n",
              "  <thead>\n",
              "    <tr style=\"text-align: right;\">\n",
              "      <th></th>\n",
              "      <th>Q0</th>\n",
              "      <th>Q1</th>\n",
              "      <th>Q2pt5</th>\n",
              "      <th>Q5</th>\n",
              "      <th>Q10</th>\n",
              "      <th>Q25</th>\n",
              "      <th>Q50</th>\n",
              "      <th>Q75</th>\n",
              "      <th>Q90</th>\n",
              "      <th>Q95</th>\n",
              "      <th>Q97pt5</th>\n",
              "      <th>Q99</th>\n",
              "      <th>Q100</th>\n",
              "      <th>Month</th>\n",
              "      <th>STNAME</th>\n",
              "      <th>CTYNAME</th>\n",
              "      <th>POPESTIMATE2015</th>\n",
              "    </tr>\n",
              "  </thead>\n",
              "  <tbody>\n",
              "    <tr>\n",
              "      <th>0</th>\n",
              "      <td>0.0</td>\n",
              "      <td>0.0</td>\n",
              "      <td>0.0</td>\n",
              "      <td>0.0</td>\n",
              "      <td>0.0</td>\n",
              "      <td>0.0</td>\n",
              "      <td>0.0</td>\n",
              "      <td>0.0</td>\n",
              "      <td>0.0</td>\n",
              "      <td>0.0</td>\n",
              "      <td>0.0</td>\n",
              "      <td>0.0</td>\n",
              "      <td>0.0</td>\n",
              "      <td>JUL</td>\n",
              "      <td>Maryland</td>\n",
              "      <td>Allegany</td>\n",
              "      <td>72498</td>\n",
              "    </tr>\n",
              "    <tr>\n",
              "      <th>4</th>\n",
              "      <td>0.0</td>\n",
              "      <td>0.0</td>\n",
              "      <td>0.0</td>\n",
              "      <td>0.0</td>\n",
              "      <td>0.0</td>\n",
              "      <td>0.0</td>\n",
              "      <td>0.0</td>\n",
              "      <td>0.0</td>\n",
              "      <td>0.0</td>\n",
              "      <td>0.0</td>\n",
              "      <td>0.0</td>\n",
              "      <td>0.0</td>\n",
              "      <td>0.0</td>\n",
              "      <td>JUL</td>\n",
              "      <td>Iowa</td>\n",
              "      <td>Clarke</td>\n",
              "      <td>9227</td>\n",
              "    </tr>\n",
              "    <tr>\n",
              "      <th>5</th>\n",
              "      <td>0.0</td>\n",
              "      <td>0.0</td>\n",
              "      <td>0.0</td>\n",
              "      <td>0.0</td>\n",
              "      <td>0.0</td>\n",
              "      <td>0.0</td>\n",
              "      <td>0.0</td>\n",
              "      <td>0.0</td>\n",
              "      <td>0.0</td>\n",
              "      <td>0.0</td>\n",
              "      <td>0.0</td>\n",
              "      <td>0.0</td>\n",
              "      <td>0.0</td>\n",
              "      <td>JUL</td>\n",
              "      <td>Idaho</td>\n",
              "      <td>Teton</td>\n",
              "      <td>10671</td>\n",
              "    </tr>\n",
              "    <tr>\n",
              "      <th>8</th>\n",
              "      <td>0.0</td>\n",
              "      <td>0.0</td>\n",
              "      <td>0.0</td>\n",
              "      <td>0.0</td>\n",
              "      <td>0.0</td>\n",
              "      <td>0.0</td>\n",
              "      <td>0.0</td>\n",
              "      <td>0.0</td>\n",
              "      <td>0.0</td>\n",
              "      <td>0.0</td>\n",
              "      <td>0.0</td>\n",
              "      <td>0.0</td>\n",
              "      <td>0.0</td>\n",
              "      <td>JUL</td>\n",
              "      <td>Minnesota</td>\n",
              "      <td>Kandiyohi</td>\n",
              "      <td>42562</td>\n",
              "    </tr>\n",
              "    <tr>\n",
              "      <th>11</th>\n",
              "      <td>0.0</td>\n",
              "      <td>0.0</td>\n",
              "      <td>0.0</td>\n",
              "      <td>0.0</td>\n",
              "      <td>0.0</td>\n",
              "      <td>0.0</td>\n",
              "      <td>0.0</td>\n",
              "      <td>0.0</td>\n",
              "      <td>0.0</td>\n",
              "      <td>0.0</td>\n",
              "      <td>0.0</td>\n",
              "      <td>0.0</td>\n",
              "      <td>0.0</td>\n",
              "      <td>JUL</td>\n",
              "      <td>Idaho</td>\n",
              "      <td>Elmore</td>\n",
              "      <td>25790</td>\n",
              "    </tr>\n",
              "  </tbody>\n",
              "</table>\n",
              "</div>"
            ],
            "text/plain": [
              "     Q0   Q1  Q2pt5   Q5  Q10  Q25  Q50  Q75  Q90  Q95  Q97pt5  Q99  Q100  \\\n",
              "0   0.0  0.0    0.0  0.0  0.0  0.0  0.0  0.0  0.0  0.0     0.0  0.0   0.0   \n",
              "4   0.0  0.0    0.0  0.0  0.0  0.0  0.0  0.0  0.0  0.0     0.0  0.0   0.0   \n",
              "5   0.0  0.0    0.0  0.0  0.0  0.0  0.0  0.0  0.0  0.0     0.0  0.0   0.0   \n",
              "8   0.0  0.0    0.0  0.0  0.0  0.0  0.0  0.0  0.0  0.0     0.0  0.0   0.0   \n",
              "11  0.0  0.0    0.0  0.0  0.0  0.0  0.0  0.0  0.0  0.0     0.0  0.0   0.0   \n",
              "\n",
              "   Month     STNAME    CTYNAME  POPESTIMATE2015  \n",
              "0    JUL   Maryland   Allegany            72498  \n",
              "4    JUL       Iowa     Clarke             9227  \n",
              "5    JUL      Idaho      Teton            10671  \n",
              "8    JUL  Minnesota  Kandiyohi            42562  \n",
              "11   JUL      Idaho     Elmore            25790  "
            ]
          },
          "metadata": {
            "tags": []
          },
          "execution_count": 31
        }
      ]
    },
    {
      "metadata": {
        "id": "S2GiqUJava7r",
        "colab_type": "code",
        "outputId": "28c5c3fa-712f-4b62-efd8-812f9ec4311e",
        "colab": {
          "base_uri": "https://localhost:8080/",
          "height": 570
        }
      },
      "cell_type": "code",
      "source": [
        "#Checking for missing values\n",
        "total = df.isnull().sum().sort_values(ascending=False) #finding count of null values\n",
        "percent_1 = df.isnull().sum()/df.isnull().count()*100 #finding percent of null values\n",
        "percent_2 = (round(percent_1, 1)).sort_values(ascending=False) #sort percent of missing values\n",
        "missing_data = pd.concat([total, percent_2], axis=1, keys=['Total', '%']) \n",
        "missing_data # No missing values found"
      ],
      "execution_count": 8,
      "outputs": [
        {
          "output_type": "execute_result",
          "data": {
            "text/html": [
              "<div>\n",
              "<style scoped>\n",
              "    .dataframe tbody tr th:only-of-type {\n",
              "        vertical-align: middle;\n",
              "    }\n",
              "\n",
              "    .dataframe tbody tr th {\n",
              "        vertical-align: top;\n",
              "    }\n",
              "\n",
              "    .dataframe thead th {\n",
              "        text-align: right;\n",
              "    }\n",
              "</style>\n",
              "<table border=\"1\" class=\"dataframe\">\n",
              "  <thead>\n",
              "    <tr style=\"text-align: right;\">\n",
              "      <th></th>\n",
              "      <th>Total</th>\n",
              "      <th>%</th>\n",
              "    </tr>\n",
              "  </thead>\n",
              "  <tbody>\n",
              "    <tr>\n",
              "      <th>POPESTIMATE2015</th>\n",
              "      <td>0</td>\n",
              "      <td>0.0</td>\n",
              "    </tr>\n",
              "    <tr>\n",
              "      <th>Q75</th>\n",
              "      <td>0</td>\n",
              "      <td>0.0</td>\n",
              "    </tr>\n",
              "    <tr>\n",
              "      <th>Q1</th>\n",
              "      <td>0</td>\n",
              "      <td>0.0</td>\n",
              "    </tr>\n",
              "    <tr>\n",
              "      <th>Q2pt5</th>\n",
              "      <td>0</td>\n",
              "      <td>0.0</td>\n",
              "    </tr>\n",
              "    <tr>\n",
              "      <th>Q5</th>\n",
              "      <td>0</td>\n",
              "      <td>0.0</td>\n",
              "    </tr>\n",
              "    <tr>\n",
              "      <th>Q10</th>\n",
              "      <td>0</td>\n",
              "      <td>0.0</td>\n",
              "    </tr>\n",
              "    <tr>\n",
              "      <th>Q25</th>\n",
              "      <td>0</td>\n",
              "      <td>0.0</td>\n",
              "    </tr>\n",
              "    <tr>\n",
              "      <th>Q50</th>\n",
              "      <td>0</td>\n",
              "      <td>0.0</td>\n",
              "    </tr>\n",
              "    <tr>\n",
              "      <th>Q90</th>\n",
              "      <td>0</td>\n",
              "      <td>0.0</td>\n",
              "    </tr>\n",
              "    <tr>\n",
              "      <th>CTYNAME</th>\n",
              "      <td>0</td>\n",
              "      <td>0.0</td>\n",
              "    </tr>\n",
              "    <tr>\n",
              "      <th>Q95</th>\n",
              "      <td>0</td>\n",
              "      <td>0.0</td>\n",
              "    </tr>\n",
              "    <tr>\n",
              "      <th>Q97pt5</th>\n",
              "      <td>0</td>\n",
              "      <td>0.0</td>\n",
              "    </tr>\n",
              "    <tr>\n",
              "      <th>Q99</th>\n",
              "      <td>0</td>\n",
              "      <td>0.0</td>\n",
              "    </tr>\n",
              "    <tr>\n",
              "      <th>Q100</th>\n",
              "      <td>0</td>\n",
              "      <td>0.0</td>\n",
              "    </tr>\n",
              "    <tr>\n",
              "      <th>Month</th>\n",
              "      <td>0</td>\n",
              "      <td>0.0</td>\n",
              "    </tr>\n",
              "    <tr>\n",
              "      <th>STNAME</th>\n",
              "      <td>0</td>\n",
              "      <td>0.0</td>\n",
              "    </tr>\n",
              "    <tr>\n",
              "      <th>Q0</th>\n",
              "      <td>0</td>\n",
              "      <td>0.0</td>\n",
              "    </tr>\n",
              "  </tbody>\n",
              "</table>\n",
              "</div>"
            ],
            "text/plain": [
              "                 Total    %\n",
              "POPESTIMATE2015      0  0.0\n",
              "Q75                  0  0.0\n",
              "Q1                   0  0.0\n",
              "Q2pt5                0  0.0\n",
              "Q5                   0  0.0\n",
              "Q10                  0  0.0\n",
              "Q25                  0  0.0\n",
              "Q50                  0  0.0\n",
              "Q90                  0  0.0\n",
              "CTYNAME              0  0.0\n",
              "Q95                  0  0.0\n",
              "Q97pt5               0  0.0\n",
              "Q99                  0  0.0\n",
              "Q100                 0  0.0\n",
              "Month                0  0.0\n",
              "STNAME               0  0.0\n",
              "Q0                   0  0.0"
            ]
          },
          "metadata": {
            "tags": []
          },
          "execution_count": 8
        }
      ]
    },
    {
      "metadata": {
        "id": "HuNL7QwdwyQW",
        "colab_type": "code",
        "outputId": "a9d1d34a-9474-4d1d-d091-14903aa6899f",
        "colab": {
          "base_uri": "https://localhost:8080/",
          "height": 399
        }
      },
      "cell_type": "code",
      "source": [
        "#check data type of all variables\n",
        "df.info()"
      ],
      "execution_count": 32,
      "outputs": [
        {
          "output_type": "stream",
          "text": [
            "<class 'pandas.core.frame.DataFrame'>\n",
            "RangeIndex: 2500 entries, 0 to 2499\n",
            "Data columns (total 17 columns):\n",
            "Q0                 2500 non-null float64\n",
            "Q1                 2500 non-null float64\n",
            "Q2pt5              2500 non-null float64\n",
            "Q5                 2500 non-null float64\n",
            "Q10                2500 non-null float64\n",
            "Q25                2500 non-null float64\n",
            "Q50                2500 non-null float64\n",
            "Q75                2500 non-null float64\n",
            "Q90                2500 non-null float64\n",
            "Q95                2500 non-null float64\n",
            "Q97pt5             2500 non-null float64\n",
            "Q99                2500 non-null float64\n",
            "Q100               2500 non-null float64\n",
            "Month              2500 non-null object\n",
            "STNAME             2500 non-null object\n",
            "CTYNAME            2500 non-null object\n",
            "POPESTIMATE2015    2500 non-null int64\n",
            "dtypes: float64(13), int64(1), object(3)\n",
            "memory usage: 332.1+ KB\n"
          ],
          "name": "stdout"
        }
      ]
    },
    {
      "metadata": {
        "id": "VUAHwpWws2pt",
        "colab_type": "code",
        "outputId": "6b8d5302-3980-42c7-8ee0-6b639b0b93b7",
        "colab": {
          "base_uri": "https://localhost:8080/",
          "height": 87
        }
      },
      "cell_type": "code",
      "source": [
        "#get column names\n",
        "df.columns"
      ],
      "execution_count": 33,
      "outputs": [
        {
          "output_type": "execute_result",
          "data": {
            "text/plain": [
              "Index(['Q0', 'Q1', 'Q2pt5', 'Q5', 'Q10', 'Q25', 'Q50', 'Q75', 'Q90', 'Q95',\n",
              "       'Q97pt5', 'Q99', 'Q100', 'Month', 'STNAME', 'CTYNAME',\n",
              "       'POPESTIMATE2015'],\n",
              "      dtype='object')"
            ]
          },
          "metadata": {
            "tags": []
          },
          "execution_count": 33
        }
      ]
    },
    {
      "metadata": {
        "id": "aWqz6sdrOi9B",
        "colab_type": "code",
        "outputId": "bea8eb4b-66b2-49fc-a97e-a2f5304a85ac",
        "colab": {
          "base_uri": "https://localhost:8080/",
          "height": 2651
        }
      },
      "cell_type": "code",
      "source": [
        "#Histograms of numerical variables\n",
        "%matplotlib inline\n",
        "import matplotlib.pyplot as plt\n",
        "\n",
        "plt.hist(df['Q0'])\n",
        "plt.title('Q0')\n",
        "plt.show()\n",
        "\n",
        "plt.hist(df['Q1'])\n",
        "plt.title('Q1')\n",
        "plt.show()\n",
        "\n",
        "plt.hist(df['Q2pt5'])\n",
        "plt.title('Q2pt5')\n",
        "plt.show()\n",
        "\n",
        "plt.hist(df['Q5'])\n",
        "plt.title('Q5')\n",
        "plt.show()\n",
        "\n",
        "plt.hist(df['Q10'])\n",
        "plt.title('Q10')\n",
        "plt.show()\n",
        "\n",
        "plt.hist(df['Q25'])\n",
        "plt.title('Q25')\n",
        "plt.show()\n",
        "\n",
        "plt.hist(df['Q50'])\n",
        "plt.title('Q50')\n",
        "plt.show()\n",
        "\n",
        "plt.hist(df['Q75'])\n",
        "plt.title('Q75')\n",
        "plt.show()\n",
        "\n",
        "plt.hist(df['Q90'])\n",
        "plt.title('Q90')\n",
        "plt.show()\n",
        "\n",
        "plt.hist(df['Q95'])\n",
        "plt.title('Q95')\n",
        "plt.show()"
      ],
      "execution_count": 10,
      "outputs": [
        {
          "output_type": "display_data",
          "data": {
            "image/png": "[encoded data removed]",
            "text/plain": [
              "<Figure size 432x288 with 1 Axes>"
            ]
          },
          "metadata": {
            "tags": []
          }
        },
        {
          "output_type": "display_data",
          "data": {
            "image/png": "[encoded data removed]",
            "text/plain": [
              "<Figure size 432x288 with 1 Axes>"
            ]
          },
          "metadata": {
            "tags": []
          }
        },
        {
          "output_type": "display_data",
          "data": {
            "image/png": "[encoded data removed]",
            "text/plain": [
              "<Figure size 432x288 with 1 Axes>"
            ]
          },
          "metadata": {
            "tags": []
          }
        },
        {
          "output_type": "display_data",
          "data": {
            "image/png": "[encoded data removed]",
            "text/plain": [
              "<Figure size 432x288 with 1 Axes>"
            ]
          },
          "metadata": {
            "tags": []
          }
        },
        {
          "output_type": "display_data",
          "data": {
            "image/png": "[encoded data removed]",
            "text/plain": [
              "<Figure size 432x288 with 1 Axes>"
            ]
          },
          "metadata": {
            "tags": []
          }
        },
        {
          "output_type": "display_data",
          "data": {
            "image/png": "[encoded data removed]",
            "text/plain": [
              "<Figure size 432x288 with 1 Axes>"
            ]
          },
          "metadata": {
            "tags": []
          }
        },
        {
          "output_type": "display_data",
          "data": {
            "image/png": "[encoded data removed]",
            "text/plain": [
              "<Figure size 432x288 with 1 Axes>"
            ]
          },
          "metadata": {
            "tags": []
          }
        },
        {
          "output_type": "display_data",
          "data": {
            "image/png": "[encoded data removed]",
            "text/plain": [
              "<Figure size 432x288 with 1 Axes>"
            ]
          },
          "metadata": {
            "tags": []
          }
        },
        {
          "output_type": "display_data",
          "data": {
            "image/png": "[encoded data removed]",
            "text/plain": [
              "<Figure size 432x288 with 1 Axes>"
            ]
          },
          "metadata": {
            "tags": []
          }
        },
        {
          "output_type": "display_data",
          "data": {
            "image/png": "[encoded data removed]",
            "text/plain": [
              "<Figure size 432x288 with 1 Axes>"
            ]
          },
          "metadata": {
            "tags": []
          }
        }
      ]
    },
    {
      "metadata": {
        "id": "cG1If86PUdyd",
        "colab_type": "code",
        "outputId": "8f31a922-5e21-4ffa-d9b4-c7a62cdd20c0",
        "colab": {
          "base_uri": "https://localhost:8080/",
          "height": 293
        }
      },
      "cell_type": "code",
      "source": [
        "#Histograms of POPESTIMATE2015 variable\n",
        "\n",
        "plt.hist(df['POPESTIMATE2015'])\n",
        "plt.title('POPESTIMATE2015')\n",
        "plt.show()"
      ],
      "execution_count": 35,
      "outputs": [
        {
          "output_type": "display_data",
          "data": {
            "image/png": "[encoded data removed]",
            "text/plain": [
              "<Figure size 432x288 with 1 Axes>"
            ]
          },
          "metadata": {
            "tags": []
          }
        }
      ]
    },
    {
      "metadata": {
        "id": "siVN89_uUukQ",
        "colab_type": "code",
        "outputId": "807fe469-0244-4cd8-b090-c3d7e9013171",
        "colab": {
          "base_uri": "https://localhost:8080/",
          "height": 459
        }
      },
      "cell_type": "code",
      "source": [
        "#Correlation plot\n",
        "#correlation matrix\n",
        "import numpy as np\n",
        "import seaborn as sns\n",
        "import math\n",
        "import matplotlib.pyplot as plt\n",
        "\n",
        "k = 15 #number of variables for heatmap\n",
        "#correlation matrix\n",
        "corrmat = df.corr()\n",
        "cols = corrmat.nlargest(k, 'POPESTIMATE2015')['POPESTIMATE2015'].index #POPESTIMATE2015 correlation matrix\n",
        " \n",
        "cm = np.corrcoef(df[cols].values.T) #creates numby array of correlation values\n",
        " \n",
        "sns.set(font_scale=1.25) #sets font\n",
        "#plot heatmap\n",
        "hm = sns.heatmap(cm, cbar=True, annot=True, square=True, fmt='.2f', annot_kws={'size': 10}, yticklabels=cols.values, xticklabels=cols.values)\n",
        "plt.show()"
      ],
      "execution_count": 11,
      "outputs": [
        {
          "output_type": "display_data",
          "data": {
            "image/png": "[encoded data removed]",
            "text/plain": [
              "<Figure size 576x396 with 2 Axes>"
            ]
          },
          "metadata": {
            "tags": []
          }
        }
      ]
    },
    {
      "metadata": {
        "id": "g4q0709KVURg",
        "colab_type": "code",
        "colab": {}
      },
      "cell_type": "code",
      "source": [
        "# To get whole EDA (Exploratory Data Analysis)\n",
        "#import pandas_profiling\n",
        "#pandas_profiling.ProfileReport(df)"
      ],
      "execution_count": 0,
      "outputs": []
    },
    {
      "metadata": {
        "id": "yYKuQ4vvMeVH",
        "colab_type": "code",
        "colab": {
          "base_uri": "https://localhost:8080/",
          "height": 202
        },
        "outputId": "e7b1b4b3-c176-45cf-ad40-1c38790098bb"
      },
      "cell_type": "code",
      "source": [
        "#Random shuffling of dataset, setting seed=123\n",
        "import numpy as np\n",
        "np.random.seed(123)\n",
        "df=df.reindex(np.random.permutation(df.index))\n",
        "df.head()\n"
      ],
      "execution_count": 38,
      "outputs": [
        {
          "output_type": "execute_result",
          "data": {
            "text/html": [
              "<div>\n",
              "<style scoped>\n",
              "    .dataframe tbody tr th:only-of-type {\n",
              "        vertical-align: middle;\n",
              "    }\n",
              "\n",
              "    .dataframe tbody tr th {\n",
              "        vertical-align: top;\n",
              "    }\n",
              "\n",
              "    .dataframe thead th {\n",
              "        text-align: right;\n",
              "    }\n",
              "</style>\n",
              "<table border=\"1\" class=\"dataframe\">\n",
              "  <thead>\n",
              "    <tr style=\"text-align: right;\">\n",
              "      <th></th>\n",
              "      <th>Q0</th>\n",
              "      <th>Q1</th>\n",
              "      <th>Q2pt5</th>\n",
              "      <th>Q5</th>\n",
              "      <th>Q10</th>\n",
              "      <th>Q25</th>\n",
              "      <th>Q50</th>\n",
              "      <th>Q75</th>\n",
              "      <th>Q90</th>\n",
              "      <th>Q95</th>\n",
              "      <th>Q97pt5</th>\n",
              "      <th>Q99</th>\n",
              "      <th>Q100</th>\n",
              "      <th>Month</th>\n",
              "      <th>STNAME</th>\n",
              "      <th>CTYNAME</th>\n",
              "      <th>POPESTIMATE2015</th>\n",
              "    </tr>\n",
              "  </thead>\n",
              "  <tbody>\n",
              "    <tr>\n",
              "      <th>2386</th>\n",
              "      <td>0.03</td>\n",
              "      <td>0.08</td>\n",
              "      <td>0.1</td>\n",
              "      <td>0.11</td>\n",
              "      <td>0.13</td>\n",
              "      <td>0.17</td>\n",
              "      <td>0.23</td>\n",
              "      <td>0.33</td>\n",
              "      <td>0.57</td>\n",
              "      <td>0.966</td>\n",
              "      <td>2.096</td>\n",
              "      <td>5.4536</td>\n",
              "      <td>25.889999</td>\n",
              "      <td>JUL</td>\n",
              "      <td>Georgia</td>\n",
              "      <td>Taylor</td>\n",
              "      <td>8242</td>\n",
              "    </tr>\n",
              "    <tr>\n",
              "      <th>1298</th>\n",
              "      <td>0.00</td>\n",
              "      <td>0.00</td>\n",
              "      <td>0.0</td>\n",
              "      <td>0.00</td>\n",
              "      <td>0.00</td>\n",
              "      <td>0.00</td>\n",
              "      <td>0.00</td>\n",
              "      <td>0.00</td>\n",
              "      <td>0.00</td>\n",
              "      <td>0.000</td>\n",
              "      <td>0.000</td>\n",
              "      <td>0.0000</td>\n",
              "      <td>0.000000</td>\n",
              "      <td>JUL</td>\n",
              "      <td>Alaska</td>\n",
              "      <td>Dillingham Census Area</td>\n",
              "      <td>4993</td>\n",
              "    </tr>\n",
              "    <tr>\n",
              "      <th>1995</th>\n",
              "      <td>0.00</td>\n",
              "      <td>0.00</td>\n",
              "      <td>0.0</td>\n",
              "      <td>0.00</td>\n",
              "      <td>0.00</td>\n",
              "      <td>0.00</td>\n",
              "      <td>0.00</td>\n",
              "      <td>0.23</td>\n",
              "      <td>0.44</td>\n",
              "      <td>0.610</td>\n",
              "      <td>0.810</td>\n",
              "      <td>2.4500</td>\n",
              "      <td>18.049999</td>\n",
              "      <td>JUL</td>\n",
              "      <td>Illinois</td>\n",
              "      <td>Hamilton</td>\n",
              "      <td>8246</td>\n",
              "    </tr>\n",
              "    <tr>\n",
              "      <th>2097</th>\n",
              "      <td>0.00</td>\n",
              "      <td>0.00</td>\n",
              "      <td>0.0</td>\n",
              "      <td>0.00</td>\n",
              "      <td>0.00</td>\n",
              "      <td>0.00</td>\n",
              "      <td>0.00</td>\n",
              "      <td>0.00</td>\n",
              "      <td>0.00</td>\n",
              "      <td>0.000</td>\n",
              "      <td>0.000</td>\n",
              "      <td>0.0000</td>\n",
              "      <td>0.000000</td>\n",
              "      <td>JUL</td>\n",
              "      <td>Michigan</td>\n",
              "      <td>Allegan</td>\n",
              "      <td>114085</td>\n",
              "    </tr>\n",
              "    <tr>\n",
              "      <th>289</th>\n",
              "      <td>0.00</td>\n",
              "      <td>0.00</td>\n",
              "      <td>0.0</td>\n",
              "      <td>0.00</td>\n",
              "      <td>0.00</td>\n",
              "      <td>0.00</td>\n",
              "      <td>0.00</td>\n",
              "      <td>0.00</td>\n",
              "      <td>0.00</td>\n",
              "      <td>0.000</td>\n",
              "      <td>0.000</td>\n",
              "      <td>0.0000</td>\n",
              "      <td>0.000000</td>\n",
              "      <td>JUL</td>\n",
              "      <td>Nebraska</td>\n",
              "      <td>Scotts Bluff</td>\n",
              "      <td>36305</td>\n",
              "    </tr>\n",
              "  </tbody>\n",
              "</table>\n",
              "</div>"
            ],
            "text/plain": [
              "        Q0    Q1  Q2pt5    Q5   Q10   Q25   Q50   Q75   Q90    Q95  Q97pt5  \\\n",
              "2386  0.03  0.08    0.1  0.11  0.13  0.17  0.23  0.33  0.57  0.966   2.096   \n",
              "1298  0.00  0.00    0.0  0.00  0.00  0.00  0.00  0.00  0.00  0.000   0.000   \n",
              "1995  0.00  0.00    0.0  0.00  0.00  0.00  0.00  0.23  0.44  0.610   0.810   \n",
              "2097  0.00  0.00    0.0  0.00  0.00  0.00  0.00  0.00  0.00  0.000   0.000   \n",
              "289   0.00  0.00    0.0  0.00  0.00  0.00  0.00  0.00  0.00  0.000   0.000   \n",
              "\n",
              "         Q99       Q100 Month    STNAME                 CTYNAME  \\\n",
              "2386  5.4536  25.889999   JUL   Georgia                  Taylor   \n",
              "1298  0.0000   0.000000   JUL    Alaska  Dillingham Census Area   \n",
              "1995  2.4500  18.049999   JUL  Illinois                Hamilton   \n",
              "2097  0.0000   0.000000   JUL  Michigan                 Allegan   \n",
              "289   0.0000   0.000000   JUL  Nebraska            Scotts Bluff   \n",
              "\n",
              "      POPESTIMATE2015  \n",
              "2386             8242  \n",
              "1298             4993  \n",
              "1995             8246  \n",
              "2097           114085  \n",
              "289             36305  "
            ]
          },
          "metadata": {
            "tags": []
          },
          "execution_count": 38
        }
      ]
    },
    {
      "metadata": {
        "id": "eG0AHMSKQs3_",
        "colab_type": "text"
      },
      "cell_type": "markdown",
      "source": [
        "#Model building"
      ]
    },
    {
      "metadata": {
        "id": "W9WvSGMt74iH",
        "colab_type": "code",
        "colab": {
          "base_uri": "https://localhost:8080/",
          "height": 141
        },
        "outputId": "acfd6528-952b-425f-83ad-bc04f3fff3de"
      },
      "cell_type": "code",
      "source": [
        "####### Model building ###############\n",
        "from sklearn import datasets, linear_model\n",
        "# machine learning\n",
        "from sklearn.ensemble import RandomForestClassifier\n",
        "from sklearn.ensemble import GradientBoostingRegressor\n",
        "from sklearn.model_selection import GridSearchCV\n",
        "from sklearn.metrics import r2_score\n",
        "\n",
        "#split dataset into k folds\n",
        "k = 10\n",
        "group_size = df.shape[0]/k\n",
        "group_size\n",
        "\n",
        "features = ['Q0', 'Q1', 'Q2pt5', 'Q5', 'Q10', 'Q25', 'Q50', 'Q75', 'Q90', 'Q95',\n",
        "       'Q97pt5', 'Q99', 'Q100', 'POPESTIMATE2015']\n",
        "\n",
        "#Create test sample of group_size 10 times\n",
        "\n",
        "l = df.shape[0]\n",
        "#create empty lists for validation errors\n",
        "mae_reg,mape_reg,sdae_reg,sdape_reg = [],[],[],[]\n",
        "mae_clf,mape_clf,sdae_clf,sdape_clf = [],[],[],[]\n",
        "mae_gbm,mape_gbm,sdae_gbm,sdape_gbm = [],[],[],[]\n",
        "\n",
        "#create empty lists for training errors\n",
        "mae_reg_tr,mape_reg_tr,sdae_reg_tr,sdape_reg_tr = [],[],[],[]\n",
        "mae_clf_tr,mape_clf_tr,sdae_clf_tr,sdape_clf_tr = [],[],[],[]\n",
        "mae_gbm_tr,mape_gbm_tr,sdae_gbm_tr,sdape_gbm_tr = [],[],[],[]\n",
        "\n",
        "coefficient_of_dermination =[]\n",
        "\n",
        "#validation results\n",
        "valid_res = pd.DataFrame([],columns=['Month', 'Q0', 'Q1', 'Q2pt5', 'Q5', 'Q10', 'Q25', 'Q50', 'Q75', 'Q90',\n",
        "       'Q95', 'Q97pt5', 'Q99', 'Q100', 'STNAME', 'CTYNAME', 'POPESTIMATE2015','Prediction_reg','Prediction_rf','Prediction_gbm'])\n",
        "\n",
        "for i in np.arange(0.1,1.1,0.1):\n",
        "  #print(int(i*l- group_size),int(i*l))\n",
        "  test1 = df[int(i*l- group_size):int(i*l)]\n",
        "  train1 = df.drop(df.index[int(i*l- group_size):int(i*l)])\n",
        "  \n",
        "  test = test1[features]\n",
        "  train = train1[features]\n",
        "  \n",
        "  ########################Linear regression #######################\n",
        "  #training data\n",
        "  X_train = train.drop('POPESTIMATE2015',axis = 1)\n",
        "  Y_train = train['POPESTIMATE2015']\n",
        "  \n",
        "  # testing sets\n",
        "  X_test = test.drop('POPESTIMATE2015',axis = 1)\n",
        "  Y_test = test['POPESTIMATE2015']\n",
        "  \n",
        "  # Create linear regression object\n",
        "  regr = linear_model.LinearRegression()\n",
        "  \n",
        "  # Train the model using the training sets\n",
        "  regr.fit(X_train, Y_train)\n",
        "  \n",
        "  # Make predictions using the testing set\n",
        "  y_pred_reg = regr.predict(X_test)\n",
        " \n",
        "  #Predict on train data\n",
        "  y_pred_tr = regr.predict(X_train)\n",
        "  \n",
        "  coefficient_of_dermination.append(r2_score(Y_test,y_pred_reg ))\n",
        "\n",
        "  #Error metrics for validation set\n",
        "  # mean absolute error, mean absolute percentage error, SD(absolute error), SD(absolute percentage error)\n",
        "  mae_reg.append(np.mean(abs(y_pred_reg-Y_test)))\n",
        "  mape_reg.append(np.mean(abs(y_pred_reg-Y_test)*100/Y_test))\n",
        "  sdae_reg.append(np.std(abs(y_pred_reg-Y_test)))\n",
        "  sdape_reg.append(np.std(abs(y_pred_reg-Y_test)*100/Y_test))\n",
        "  \n",
        "  #Error metrics for train set\n",
        "  # mean absolute error, mean absolute percentage error, SD(absolute error), SD(absolute percentage error)\n",
        "  mae_reg_tr.append(np.mean(abs(y_pred_tr-Y_train)))\n",
        "  mape_reg_tr.append(np.mean(abs(y_pred_tr-Y_train)*100/Y_train))\n",
        "  sdae_reg_tr.append(np.std(abs(y_pred_tr-Y_train)))\n",
        "  sdape_reg_tr.append(np.std(abs(y_pred_tr-Y_train)*100/Y_train))\n",
        "  \n",
        "  \n",
        "  ######################## RANDOM FOREST ######################\n",
        "  %timeit\n",
        "  # Create a random forest Classifier. By convention, clf means 'Classifier'\n",
        "  clf = RandomForestClassifier(n_estimators = 100, n_jobs = 2,  \n",
        "                               max_features = \"auto\")\n",
        "\n",
        "  # Train the Classifier to take the training features and learn how they relate\n",
        "  # to the training y (the species)\n",
        "  clf.fit(X_train, Y_train)\n",
        "  # Apply the Classifier we trained to the test data (which, remember, it has never seen before)\n",
        "  y_pred_clf = clf.predict(X_test)\n",
        "  \n",
        "  #Predict on train data\n",
        "  y_pred_clf_tr = clf.predict(X_train)\n",
        "\n",
        "  #Error metrics for validation set\n",
        "  # mean absolute error, mean absolute percentage error, SD(absolute error), SD(absolute percentage error)\n",
        "  mae_clf.append(np.mean(abs(y_pred_clf-Y_test)))\n",
        "  mape_clf.append(np.mean(abs(y_pred_clf-Y_test)*100/Y_test))\n",
        "  sdae_clf.append(np.std(abs(y_pred_clf-Y_test)))\n",
        "  sdape_clf.append(np.std(abs(y_pred_clf-Y_test)*100/Y_test))\n",
        "  \n",
        "  #Error metrics for train set\n",
        "  # mean absolute error, mean absolute percentage error, SD(absolute error), SD(absolute percentage error)\n",
        "  mae_clf_tr.append(np.mean(abs(y_pred_clf_tr-Y_train)))\n",
        "  mape_clf_tr.append(np.mean(abs(y_pred_clf_tr-Y_train)*100/Y_train))\n",
        "  sdae_clf_tr.append(np.std(abs(y_pred_clf_tr-Y_train)))\n",
        "  sdape_clf_tr.append(np.std(abs(y_pred_clf_tr-Y_train)*100/Y_train))\n",
        "  \n",
        "  ######################### GRADIENT BOOSTING #####################\n",
        "  ##Building a gradient boosting tree on training data\n",
        "  gbm = GradientBoostingRegressor(alpha=0.9, criterion='friedman_mse', init=None,\n",
        "             learning_rate=0.02, loss='ls', max_depth=6, max_features=0.3,\n",
        "             max_leaf_nodes=None, min_impurity_decrease=0.0,\n",
        "             min_impurity_split=None, min_samples_leaf=3,\n",
        "             min_samples_split=2, min_weight_fraction_leaf=0.0,\n",
        "             n_estimators=100, n_iter_no_change=None, presort='auto',\n",
        "             random_state=None, subsample=1.0, tol=0.0001,\n",
        "             validation_fraction=0.1, verbose=0, warm_start=False)\n",
        "  \n",
        "  #For parameter tuning\n",
        "  #parameters = {'n_estimators':[100], 'learning_rate': [0.1, 0.05, 0.02, 0.01], 'max_depth':[6,4],\n",
        "               # 'min_samples_leaf':[3,5,9,17], 'max_features':[1.0,0.3,0.1] } \n",
        " \n",
        "  #gbm = GridSearchCV(GradientBoostingRegressor(), parameters, cv=10, n_jobs=-1)\n",
        "  #gbm.best_estimator_  \n",
        "            \n",
        "  gbm.fit(X_train, Y_train)\n",
        "\n",
        "  #Predict on test data\n",
        "  y_pred_gbm = gbm.predict(X_test)\n",
        "  \n",
        "  #Predict on train data\n",
        "  y_pred_gbm_tr = gbm.predict(X_train)\n",
        "\n",
        "  \n",
        "  #Error metrics for validation set\n",
        "  # mean absolute error, mean absolute percentage error, SD(absolute error), SD(absolute percentage error)\n",
        "  mae_gbm.append(np.mean(abs(y_pred_gbm-Y_test)))\n",
        "  mape_gbm.append(np.mean(abs(y_pred_gbm-Y_test)*100/Y_test))\n",
        "  sdae_gbm.append(np.std(abs(y_pred_gbm-Y_test)))\n",
        "  sdape_gbm.append(np.std(abs(y_pred_gbm-Y_test)*100/Y_test))\n",
        "  \n",
        "  #Error metrics for train set\n",
        "  # mean absolute error, mean absolute percentage error, SD(absolute error), SD(absolute percentage error)\n",
        "  mae_gbm_tr.append(np.mean(abs(y_pred_gbm_tr-Y_train)))\n",
        "  mape_gbm_tr.append(np.mean(abs(y_pred_gbm_tr-Y_train)*100/Y_train))\n",
        "  sdae_gbm_tr.append(np.std(abs(y_pred_gbm_tr-Y_train)))\n",
        "  sdape_gbm_tr.append(np.std(abs(y_pred_gbm_tr-Y_train)*100/Y_train))\n",
        "  \n",
        "  ##column bind to test dataframe\n",
        "  \n",
        "  df_c = pd.concat([test1.reset_index(drop=True), pd.Series(y_pred_reg,name='Prediction_reg'), \n",
        "                    pd.Series(y_pred_clf,name='Prediction_rf'),pd.Series(y_pred_gbm,name='Prediction_gbm')], axis=1)\n",
        "  \n",
        "  valid_res = valid_res.append(df_c)\n",
        "\n",
        "########### Validation set error metrics #################  \n",
        "#Regression\n",
        "mae1 = np.mean(mae_reg)\n",
        "mape1 = np.mean(mape_reg)\n",
        "sdae1 = np.std(sdae_reg)\n",
        "sdape1 = np.std(sdape_reg)\n",
        "\n",
        "#Random forest\n",
        "mae2 = np.mean(mae_clf)\n",
        "mape2 = np.mean(mape_clf)\n",
        "sdae2 = np.std(sdae_clf)\n",
        "sdape2 = np.std(sdape_clf)\n",
        "\n",
        "#GBM\n",
        "mae3 = np.mean(mae_gbm)\n",
        "mape3 = np.mean(mape_gbm)\n",
        "sdae3 = np.std(sdae_gbm)\n",
        "sdape3 = np.std(sdape_gbm)\n",
        "\n",
        "########## Training set error metrics ##################\n",
        "#Regression\n",
        "mae1_tr = np.mean(mae_reg_tr)\n",
        "mape1_tr = np.mean(mape_reg_tr)\n",
        "sdae1_tr = np.std(sdae_reg_tr)\n",
        "sdape1_tr = np.std(sdape_reg_tr)\n",
        "\n",
        "#Random Forest\n",
        "mae2_tr = np.mean(mae_clf_tr)\n",
        "mape2_tr = np.mean(mape_clf_tr)\n",
        "sdae2_tr = np.std(sdae_clf_tr)\n",
        "sdape2_tr = np.std(sdape_clf_tr)\n",
        "\n",
        "#GBM\n",
        "mae3_tr = np.mean(mae_gbm_tr)\n",
        "mape3_tr = np.mean(mape_gbm_tr)\n",
        "sdae3_tr = np.std(sdae_gbm_tr)\n",
        "sdape3_tr = np.std(sdape_gbm_tr)\n",
        "\n",
        "#Final dataframe combining all error metrics\n",
        "error_df = pd.DataFrame({'Model':['Linear Regression','Random Forest','GBM'],'MAE:Validn':[mae1,mae2,mae3],'MAPE:Validn':[mape1,mape2,mape3],\n",
        "                        'SD(ae):Validn':[sdae1,sdae2,sdae3],'SD(ape):Validn':[sdape1,sdape2,sdape3], 'MAE:Train':[mae1_tr,mae2_tr,mae3_tr],'MAPE:Train':[mape1_tr,mape2_tr,mape3_tr],\n",
        "                        'SD(ae):Train':[sdae1_tr,sdae2_tr,sdae3_tr],'SD(ape):Train':[sdape1_tr,sdape2_tr,sdape3_tr]},\n",
        "                       columns = ['Model','MAE:Validn','MAPE:Validn','SD(ae):Validn','SD(ape):Validn','MAE:Train','MAPE:Train', 'SD(ae):Train','SD(ape):Train'])\n",
        "error_df "
      ],
      "execution_count": 14,
      "outputs": [
        {
          "output_type": "execute_result",
          "data": {
            "text/html": [
              "<div>\n",
              "<style scoped>\n",
              "    .dataframe tbody tr th:only-of-type {\n",
              "        vertical-align: middle;\n",
              "    }\n",
              "\n",
              "    .dataframe tbody tr th {\n",
              "        vertical-align: top;\n",
              "    }\n",
              "\n",
              "    .dataframe thead th {\n",
              "        text-align: right;\n",
              "    }\n",
              "</style>\n",
              "<table border=\"1\" class=\"dataframe\">\n",
              "  <thead>\n",
              "    <tr style=\"text-align: right;\">\n",
              "      <th></th>\n",
              "      <th>Model</th>\n",
              "      <th>MAE:Validn</th>\n",
              "      <th>MAPE:Validn</th>\n",
              "      <th>SD(ae):Validn</th>\n",
              "      <th>SD(ape):Validn</th>\n",
              "      <th>MAE:Train</th>\n",
              "      <th>MAPE:Train</th>\n",
              "      <th>SD(ae):Train</th>\n",
              "      <th>SD(ape):Train</th>\n",
              "    </tr>\n",
              "  </thead>\n",
              "  <tbody>\n",
              "    <tr>\n",
              "      <th>0</th>\n",
              "      <td>Linear Regression</td>\n",
              "      <td>111056.316092</td>\n",
              "      <td>709.285495</td>\n",
              "      <td>143218.264314</td>\n",
              "      <td>1716.865433</td>\n",
              "      <td>106311.842891</td>\n",
              "      <td>711.231113</td>\n",
              "      <td>19786.140252</td>\n",
              "      <td>659.952916</td>\n",
              "    </tr>\n",
              "    <tr>\n",
              "      <th>1</th>\n",
              "      <td>Random Forest</td>\n",
              "      <td>87844.691200</td>\n",
              "      <td>123.530395</td>\n",
              "      <td>149295.572589</td>\n",
              "      <td>210.429708</td>\n",
              "      <td>48077.800044</td>\n",
              "      <td>62.859141</td>\n",
              "      <td>17038.789551</td>\n",
              "      <td>94.064546</td>\n",
              "    </tr>\n",
              "    <tr>\n",
              "      <th>2</th>\n",
              "      <td>GBM</td>\n",
              "      <td>103239.799868</td>\n",
              "      <td>952.571064</td>\n",
              "      <td>148232.886249</td>\n",
              "      <td>13341.076027</td>\n",
              "      <td>84415.275967</td>\n",
              "      <td>719.327406</td>\n",
              "      <td>14588.116815</td>\n",
              "      <td>2038.518996</td>\n",
              "    </tr>\n",
              "  </tbody>\n",
              "</table>\n",
              "</div>"
            ],
            "text/plain": [
              "               Model     MAE:Validn  MAPE:Validn  SD(ae):Validn  \\\n",
              "0  Linear Regression  111056.316092   709.285495  143218.264314   \n",
              "1      Random Forest   87844.691200   123.530395  149295.572589   \n",
              "2                GBM  103239.799868   952.571064  148232.886249   \n",
              "\n",
              "   SD(ape):Validn      MAE:Train  MAPE:Train  SD(ae):Train  SD(ape):Train  \n",
              "0     1716.865433  106311.842891  711.231113  19786.140252     659.952916  \n",
              "1      210.429708   48077.800044   62.859141  17038.789551      94.064546  \n",
              "2    13341.076027   84415.275967  719.327406  14588.116815    2038.518996  "
            ]
          },
          "metadata": {
            "tags": []
          },
          "execution_count": 14
        }
      ]
    },
    {
      "metadata": {
        "id": "3UvUivcp9Efh",
        "colab_type": "code",
        "colab": {
          "base_uri": "https://localhost:8080/",
          "height": 191
        },
        "outputId": "f86e3eaa-6a02-42b3-e4f3-5e73a725078c"
      },
      "cell_type": "code",
      "source": [
        "#error_df\n",
        "#coefficient_of_dermination"
      ],
      "execution_count": 16,
      "outputs": [
        {
          "output_type": "execute_result",
          "data": {
            "text/plain": [
              "[-0.7800499478028913,\n",
              " -0.21903033424779061,\n",
              " -0.03465923955036865,\n",
              " 0.0824801193434489,\n",
              " 0.2194424356242063,\n",
              " -0.034133818877915445,\n",
              " 0.07681523444639338,\n",
              " -0.02704275192884098,\n",
              " -0.07815494226404618,\n",
              " 0.40704400380207395]"
            ]
          },
          "metadata": {
            "tags": []
          },
          "execution_count": 16
        }
      ]
    },
    {
      "metadata": {
        "id": "C4065BUVISET",
        "colab_type": "text"
      },
      "cell_type": "markdown",
      "source": [
        "#Summary table of each model (training and validation results)"
      ]
    },
    {
      "metadata": {
        "id": "TIKaonpSINsQ",
        "colab_type": "code",
        "colab": {
          "base_uri": "https://localhost:8080/",
          "height": 141
        },
        "outputId": "41eba1ee-74d8-4432-99c2-f749d42c0c98"
      },
      "cell_type": "code",
      "source": [
        "error_df\n"
      ],
      "execution_count": 15,
      "outputs": [
        {
          "output_type": "execute_result",
          "data": {
            "text/html": [
              "<div>\n",
              "<style scoped>\n",
              "    .dataframe tbody tr th:only-of-type {\n",
              "        vertical-align: middle;\n",
              "    }\n",
              "\n",
              "    .dataframe tbody tr th {\n",
              "        vertical-align: top;\n",
              "    }\n",
              "\n",
              "    .dataframe thead th {\n",
              "        text-align: right;\n",
              "    }\n",
              "</style>\n",
              "<table border=\"1\" class=\"dataframe\">\n",
              "  <thead>\n",
              "    <tr style=\"text-align: right;\">\n",
              "      <th></th>\n",
              "      <th>Model</th>\n",
              "      <th>MAE:Validn</th>\n",
              "      <th>MAPE:Validn</th>\n",
              "      <th>SD(ae):Validn</th>\n",
              "      <th>SD(ape):Validn</th>\n",
              "      <th>MAE:Train</th>\n",
              "      <th>MAPE:Train</th>\n",
              "      <th>SD(ae):Train</th>\n",
              "      <th>SD(ape):Train</th>\n",
              "    </tr>\n",
              "  </thead>\n",
              "  <tbody>\n",
              "    <tr>\n",
              "      <th>0</th>\n",
              "      <td>Linear Regression</td>\n",
              "      <td>111056.316092</td>\n",
              "      <td>709.285495</td>\n",
              "      <td>143218.264314</td>\n",
              "      <td>1716.865433</td>\n",
              "      <td>106311.842891</td>\n",
              "      <td>711.231113</td>\n",
              "      <td>19786.140252</td>\n",
              "      <td>659.952916</td>\n",
              "    </tr>\n",
              "    <tr>\n",
              "      <th>1</th>\n",
              "      <td>Random Forest</td>\n",
              "      <td>87844.691200</td>\n",
              "      <td>123.530395</td>\n",
              "      <td>149295.572589</td>\n",
              "      <td>210.429708</td>\n",
              "      <td>48077.800044</td>\n",
              "      <td>62.859141</td>\n",
              "      <td>17038.789551</td>\n",
              "      <td>94.064546</td>\n",
              "    </tr>\n",
              "    <tr>\n",
              "      <th>2</th>\n",
              "      <td>GBM</td>\n",
              "      <td>103239.799868</td>\n",
              "      <td>952.571064</td>\n",
              "      <td>148232.886249</td>\n",
              "      <td>13341.076027</td>\n",
              "      <td>84415.275967</td>\n",
              "      <td>719.327406</td>\n",
              "      <td>14588.116815</td>\n",
              "      <td>2038.518996</td>\n",
              "    </tr>\n",
              "  </tbody>\n",
              "</table>\n",
              "</div>"
            ],
            "text/plain": [
              "               Model     MAE:Validn  MAPE:Validn  SD(ae):Validn  \\\n",
              "0  Linear Regression  111056.316092   709.285495  143218.264314   \n",
              "1      Random Forest   87844.691200   123.530395  149295.572589   \n",
              "2                GBM  103239.799868   952.571064  148232.886249   \n",
              "\n",
              "   SD(ape):Validn      MAE:Train  MAPE:Train  SD(ae):Train  SD(ape):Train  \n",
              "0     1716.865433  106311.842891  711.231113  19786.140252     659.952916  \n",
              "1      210.429708   48077.800044   62.859141  17038.789551      94.064546  \n",
              "2    13341.076027   84415.275967  719.327406  14588.116815    2038.518996  "
            ]
          },
          "metadata": {
            "tags": []
          },
          "execution_count": 15
        }
      ]
    },
    {
      "metadata": {
        "id": "AEXaquRKoAm-",
        "colab_type": "code",
        "outputId": "c7f8c6d3-289d-4fa1-ca85-866398035050",
        "colab": {
          "base_uri": "https://localhost:8080/",
          "height": 338
        }
      },
      "cell_type": "code",
      "source": [
        "print(valid_res.columns)\n",
        "\n",
        "valid_res['Regression_ae'] = abs(valid_res['Prediction_reg'] - valid_res['POPESTIMATE2015'])\n",
        "valid_res['Randomforest_ae'] = abs(valid_res['Prediction_rf'] - valid_res['POPESTIMATE2015'])\n",
        "valid_res['GBM_ae'] = abs(valid_res['Prediction_gbm'] - valid_res['POPESTIMATE2015'])\n",
        "valid_res['Regression_ape'] = abs(valid_res['Prediction_reg'] - valid_res['POPESTIMATE2015'])*100/valid_res['POPESTIMATE2015']\n",
        "valid_res['RandomForest_ape'] = abs(valid_res['Prediction_rf'] - valid_res['POPESTIMATE2015'])*100/valid_res['POPESTIMATE2015']\n",
        "valid_res['GBM_ape'] = abs(valid_res['Prediction_gbm'] - valid_res['POPESTIMATE2015'])*100/valid_res['POPESTIMATE2015']\n",
        "\n",
        "valid_res.head() "
      ],
      "execution_count": 17,
      "outputs": [
        {
          "output_type": "stream",
          "text": [
            "Index(['CTYNAME', 'Month', 'POPESTIMATE2015', 'Prediction_gbm',\n",
            "       'Prediction_reg', 'Prediction_rf', 'Q0', 'Q1', 'Q10', 'Q100', 'Q25',\n",
            "       'Q2pt5', 'Q5', 'Q50', 'Q75', 'Q90', 'Q95', 'Q97pt5', 'Q99', 'STNAME'],\n",
            "      dtype='object')\n"
          ],
          "name": "stdout"
        },
        {
          "output_type": "execute_result",
          "data": {
            "text/html": [
              "<div>\n",
              "<style scoped>\n",
              "    .dataframe tbody tr th:only-of-type {\n",
              "        vertical-align: middle;\n",
              "    }\n",
              "\n",
              "    .dataframe tbody tr th {\n",
              "        vertical-align: top;\n",
              "    }\n",
              "\n",
              "    .dataframe thead th {\n",
              "        text-align: right;\n",
              "    }\n",
              "</style>\n",
              "<table border=\"1\" class=\"dataframe\">\n",
              "  <thead>\n",
              "    <tr style=\"text-align: right;\">\n",
              "      <th></th>\n",
              "      <th>CTYNAME</th>\n",
              "      <th>Month</th>\n",
              "      <th>POPESTIMATE2015</th>\n",
              "      <th>Prediction_gbm</th>\n",
              "      <th>Prediction_reg</th>\n",
              "      <th>Prediction_rf</th>\n",
              "      <th>Q0</th>\n",
              "      <th>Q1</th>\n",
              "      <th>Q10</th>\n",
              "      <th>Q100</th>\n",
              "      <th>...</th>\n",
              "      <th>Q95</th>\n",
              "      <th>Q97pt5</th>\n",
              "      <th>Q99</th>\n",
              "      <th>STNAME</th>\n",
              "      <th>Regression_ae</th>\n",
              "      <th>Randomforest_ae</th>\n",
              "      <th>GBM_ae</th>\n",
              "      <th>Regression_ape</th>\n",
              "      <th>RandomForest_ape</th>\n",
              "      <th>GBM_ape</th>\n",
              "    </tr>\n",
              "  </thead>\n",
              "  <tbody>\n",
              "    <tr>\n",
              "      <th>0</th>\n",
              "      <td>Allegany</td>\n",
              "      <td>JUL</td>\n",
              "      <td>72498</td>\n",
              "      <td>108057.900853</td>\n",
              "      <td>75282.223338</td>\n",
              "      <td>17554</td>\n",
              "      <td>0.00</td>\n",
              "      <td>0.00</td>\n",
              "      <td>0.00</td>\n",
              "      <td>0.000000</td>\n",
              "      <td>...</td>\n",
              "      <td>0.000</td>\n",
              "      <td>0.00000</td>\n",
              "      <td>0.0000</td>\n",
              "      <td>Maryland</td>\n",
              "      <td>2784.22</td>\n",
              "      <td>54944</td>\n",
              "      <td>35559.9</td>\n",
              "      <td>3.84041</td>\n",
              "      <td>75.7869</td>\n",
              "      <td>49.0495</td>\n",
              "    </tr>\n",
              "    <tr>\n",
              "      <th>1</th>\n",
              "      <td>Russell</td>\n",
              "      <td>JUL</td>\n",
              "      <td>58847</td>\n",
              "      <td>65271.011418</td>\n",
              "      <td>67777.112014</td>\n",
              "      <td>71822</td>\n",
              "      <td>0.02</td>\n",
              "      <td>0.08</td>\n",
              "      <td>0.13</td>\n",
              "      <td>95.500000</td>\n",
              "      <td>...</td>\n",
              "      <td>4.110</td>\n",
              "      <td>10.37625</td>\n",
              "      <td>18.9790</td>\n",
              "      <td>Alabama</td>\n",
              "      <td>8930.11</td>\n",
              "      <td>12975</td>\n",
              "      <td>6424.01</td>\n",
              "      <td>15.1751</td>\n",
              "      <td>22.0487</td>\n",
              "      <td>10.9165</td>\n",
              "    </tr>\n",
              "    <tr>\n",
              "      <th>2</th>\n",
              "      <td>Meriwether</td>\n",
              "      <td>JUL</td>\n",
              "      <td>21186</td>\n",
              "      <td>36653.378447</td>\n",
              "      <td>18311.439136</td>\n",
              "      <td>13717</td>\n",
              "      <td>0.10</td>\n",
              "      <td>0.15</td>\n",
              "      <td>0.20</td>\n",
              "      <td>42.669998</td>\n",
              "      <td>...</td>\n",
              "      <td>1.363</td>\n",
              "      <td>3.11650</td>\n",
              "      <td>7.0808</td>\n",
              "      <td>Georgia</td>\n",
              "      <td>2874.56</td>\n",
              "      <td>7469</td>\n",
              "      <td>15467.4</td>\n",
              "      <td>13.5682</td>\n",
              "      <td>35.2544</td>\n",
              "      <td>73.0075</td>\n",
              "    </tr>\n",
              "    <tr>\n",
              "      <th>3</th>\n",
              "      <td>Cameron Parish</td>\n",
              "      <td>JUL</td>\n",
              "      <td>6815</td>\n",
              "      <td>59090.828681</td>\n",
              "      <td>112223.476906</td>\n",
              "      <td>20486</td>\n",
              "      <td>0.00</td>\n",
              "      <td>0.03</td>\n",
              "      <td>0.07</td>\n",
              "      <td>203.500000</td>\n",
              "      <td>...</td>\n",
              "      <td>1.500</td>\n",
              "      <td>2.93425</td>\n",
              "      <td>8.3137</td>\n",
              "      <td>Louisiana</td>\n",
              "      <td>105408</td>\n",
              "      <td>13671</td>\n",
              "      <td>52275.8</td>\n",
              "      <td>1546.71</td>\n",
              "      <td>200.602</td>\n",
              "      <td>767.07</td>\n",
              "    </tr>\n",
              "    <tr>\n",
              "      <th>4</th>\n",
              "      <td>Clarke</td>\n",
              "      <td>JUL</td>\n",
              "      <td>9227</td>\n",
              "      <td>108057.900853</td>\n",
              "      <td>75282.223338</td>\n",
              "      <td>17554</td>\n",
              "      <td>0.00</td>\n",
              "      <td>0.00</td>\n",
              "      <td>0.00</td>\n",
              "      <td>0.000000</td>\n",
              "      <td>...</td>\n",
              "      <td>0.000</td>\n",
              "      <td>0.00000</td>\n",
              "      <td>0.0000</td>\n",
              "      <td>Iowa</td>\n",
              "      <td>66055.2</td>\n",
              "      <td>8327</td>\n",
              "      <td>98830.9</td>\n",
              "      <td>715.891</td>\n",
              "      <td>90.246</td>\n",
              "      <td>1071.11</td>\n",
              "    </tr>\n",
              "  </tbody>\n",
              "</table>\n",
              "<p>5 rows × 26 columns</p>\n",
              "</div>"
            ],
            "text/plain": [
              "          CTYNAME Month POPESTIMATE2015  Prediction_gbm  Prediction_reg  \\\n",
              "0        Allegany   JUL           72498   108057.900853    75282.223338   \n",
              "1         Russell   JUL           58847    65271.011418    67777.112014   \n",
              "2      Meriwether   JUL           21186    36653.378447    18311.439136   \n",
              "3  Cameron Parish   JUL            6815    59090.828681   112223.476906   \n",
              "4          Clarke   JUL            9227   108057.900853    75282.223338   \n",
              "\n",
              "  Prediction_rf    Q0    Q1   Q10        Q100   ...       Q95    Q97pt5  \\\n",
              "0         17554  0.00  0.00  0.00    0.000000   ...     0.000   0.00000   \n",
              "1         71822  0.02  0.08  0.13   95.500000   ...     4.110  10.37625   \n",
              "2         13717  0.10  0.15  0.20   42.669998   ...     1.363   3.11650   \n",
              "3         20486  0.00  0.03  0.07  203.500000   ...     1.500   2.93425   \n",
              "4         17554  0.00  0.00  0.00    0.000000   ...     0.000   0.00000   \n",
              "\n",
              "       Q99     STNAME  Regression_ae  Randomforest_ae   GBM_ae  \\\n",
              "0   0.0000   Maryland        2784.22            54944  35559.9   \n",
              "1  18.9790    Alabama        8930.11            12975  6424.01   \n",
              "2   7.0808    Georgia        2874.56             7469  15467.4   \n",
              "3   8.3137  Louisiana         105408            13671  52275.8   \n",
              "4   0.0000       Iowa        66055.2             8327  98830.9   \n",
              "\n",
              "   Regression_ape  RandomForest_ape  GBM_ape  \n",
              "0         3.84041           75.7869  49.0495  \n",
              "1         15.1751           22.0487  10.9165  \n",
              "2         13.5682           35.2544  73.0075  \n",
              "3         1546.71           200.602   767.07  \n",
              "4         715.891            90.246  1071.11  \n",
              "\n",
              "[5 rows x 26 columns]"
            ]
          },
          "metadata": {
            "tags": []
          },
          "execution_count": 17
        }
      ]
    },
    {
      "metadata": {
        "id": "SVgoLf2AQhar",
        "colab_type": "text"
      },
      "cell_type": "markdown",
      "source": [
        "#California Boxplot"
      ]
    },
    {
      "metadata": {
        "id": "EhtLiuC_fKJo",
        "colab_type": "code",
        "outputId": "3b40498b-e939-47a7-f422-b584a7b0c47c",
        "colab": {
          "base_uri": "https://localhost:8080/",
          "height": 804
        }
      },
      "cell_type": "code",
      "source": [
        "print(valid_res.shape)\n",
        "#California predictions\n",
        "\n",
        "CA_pred = valid_res[valid_res['STNAME'] == 'California']\n",
        "#print(CA_pred.sort_values('Randomforest_ae',ascending = False)) #Los angeles-highest populated county outlier\n",
        "      \n",
        "#Absolute errors\n",
        "CA_pred1 = CA_pred[['Regression_ae','Randomforest_ae', 'GBM_ae']]\n",
        "CA_pred2 = pd.melt(CA_pred1)      # MELT\n",
        "\n",
        "ax1 = sns.boxplot(x=CA_pred2['variable'], y=CA_pred2['value'].astype(float) ) #RUN PLOT\n",
        "ax1.set_title('California Boxplot of absolute error (AE)')\n",
        "ax1.set_xlabel('Models')\n",
        "plt.show()\n",
        "\n",
        "#Absolute percentage errors\n",
        "CA_pred_pe = CA_pred[['Regression_ape', 'RandomForest_ape','GBM_ape']]\n",
        "CA_pred_pe = pd.melt(CA_pred_pe)      # MELT\n",
        "\n",
        "ax2 = sns.boxplot(x=CA_pred_pe['variable'], y=CA_pred_pe['value'].astype(float) ) #RUN PLOT\n",
        "ax2.set_title('California Boxplot of absolute percentage error (APE)')\n",
        "ax2.set_xlabel('Models')\n",
        "plt.show()\n"
      ],
      "execution_count": 24,
      "outputs": [
        {
          "output_type": "stream",
          "text": [
            "(2500, 26)\n"
          ],
          "name": "stdout"
        },
        {
          "output_type": "stream",
          "text": [
            "/usr/local/lib/python3.6/dist-packages/seaborn/categorical.py:454: FutureWarning: remove_na is deprecated and is a private function. Do not use.\n",
            "  box_data = remove_na(group_data)\n"
          ],
          "name": "stderr"
        },
        {
          "output_type": "display_data",
          "data": {
            "image/png": "[encoded data removed]",
            "text/plain": [
              "<Figure size 576x396 with 1 Axes>"
            ]
          },
          "metadata": {
            "tags": []
          }
        },
        {
          "output_type": "display_data",
          "data": {
            "image/png": "[encoded data removed]",
            "text/plain": [
              "<Figure size 576x396 with 1 Axes>"
            ]
          },
          "metadata": {
            "tags": []
          }
        }
      ]
    },
    {
      "metadata": {
        "id": "zgHjKBy1Qdm6",
        "colab_type": "text"
      },
      "cell_type": "markdown",
      "source": [
        "#Texas Boxplot"
      ]
    },
    {
      "metadata": {
        "id": "NjjMO42EFKZ6",
        "colab_type": "code",
        "outputId": "1dc29c8c-71cf-47a5-b783-21d0d9708136",
        "colab": {
          "base_uri": "https://localhost:8080/",
          "height": 787
        }
      },
      "cell_type": "code",
      "source": [
        "#Texas predictions\n",
        "TX_pred = valid_res[valid_res['STNAME'] == 'Texas']\n",
        "#print(TX_pred.sort_values('Randomforest_ae',ascending = False)) #Tarrant, Dallas-highest populated county outlier\n",
        "\n",
        "#Absolute errors\n",
        "TX_pred1 = TX_pred[['Regression_ae','Randomforest_ae', 'GBM_ae']]\n",
        "TX_pred2 = pd.melt(TX_pred1)      # MELT\n",
        "\n",
        "ax3 = sns.boxplot(x=TX_pred2['variable'], y=TX_pred2['value'].astype(float) ) #RUN PLOT\n",
        "ax3.set_title('Texas Boxplot of absolute  error (AE)')\n",
        "ax3.set_xlabel('Models')\n",
        "plt.show()\n",
        "\n",
        "#Absolute percentage errors\n",
        "TX_pred_pe = TX_pred[['Regression_ape', 'RandomForest_ape','GBM_ape']]\n",
        "TX_pred_pe = pd.melt(TX_pred_pe)      # MELT\n",
        "#print(TX_pred_pe)\n",
        "ax4 = sns.boxplot(x=TX_pred_pe['variable'], y=TX_pred_pe['value'].astype(float) ) #RUN PLOT\n",
        "ax4.set_title('Texas Boxplot of absolute percentage error (APE)')\n",
        "ax4.set_xlabel('Models')\n",
        "plt.show()"
      ],
      "execution_count": 26,
      "outputs": [
        {
          "output_type": "stream",
          "text": [
            "/usr/local/lib/python3.6/dist-packages/seaborn/categorical.py:454: FutureWarning: remove_na is deprecated and is a private function. Do not use.\n",
            "  box_data = remove_na(group_data)\n"
          ],
          "name": "stderr"
        },
        {
          "output_type": "display_data",
          "data": {
            "image/png": "[encoded data removed]",
            "text/plain": [
              "<Figure size 576x396 with 1 Axes>"
            ]
          },
          "metadata": {
            "tags": []
          }
        },
        {
          "output_type": "display_data",
          "data": {
            "image/png": "[encoded data removed]",
            "text/plain": [
              "<Figure size 576x396 with 1 Axes>"
            ]
          },
          "metadata": {
            "tags": []
          }
        }
      ]
    },
    {
      "metadata": {
        "id": "wuYzy_FyQakO",
        "colab_type": "text"
      },
      "cell_type": "markdown",
      "source": [
        "#Florida Boxplot"
      ]
    },
    {
      "metadata": {
        "id": "pLp2P9cDFX9h",
        "colab_type": "code",
        "outputId": "567d2b0b-4ee2-4224-a8d7-02c55a013168",
        "colab": {
          "base_uri": "https://localhost:8080/",
          "height": 787
        }
      },
      "cell_type": "code",
      "source": [
        "\n",
        "#FLorida predictions\n",
        "FL_pred = valid_res[valid_res['STNAME'] == 'Florida']\n",
        "#print(FL_pred.sort_values('Regression_ape',ascending = False)) #Miami-Dade , Pinellas-highest populated county outlier\n",
        "\n",
        "FL_pred1 = FL_pred[['Regression_ae','Randomforest_ae', 'GBM_ae']]\n",
        "FL_pred2 = pd.melt(FL_pred1)      # MELT\n",
        "\n",
        "ax5 = sns.boxplot(x=FL_pred2['variable'], y=FL_pred2['value'].astype(float) ) #RUN PLOT\n",
        "ax5.set_title('Florida Boxplot of absolute error (AE)')\n",
        "ax5.set_xlabel('Models')\n",
        "plt.show()\n",
        "\n",
        "#Absolute percentage errors\n",
        "FL_pred_pe = FL_pred[['Regression_ape', 'RandomForest_ape','GBM_ape']]\n",
        "FL_pred_pe = pd.melt(FL_pred_pe)      # MELT\n",
        "\n",
        "ax6 = sns.boxplot(x=FL_pred_pe['variable'], y=FL_pred_pe['value'].astype(float) ) #RUN PLOT\n",
        "ax6.set_title('Florida Boxplot of absolute percentage error (APE)')\n",
        "ax6.set_xlabel('Models')\n",
        "plt.show()\n"
      ],
      "execution_count": 30,
      "outputs": [
        {
          "output_type": "stream",
          "text": [
            "/usr/local/lib/python3.6/dist-packages/seaborn/categorical.py:454: FutureWarning: remove_na is deprecated and is a private function. Do not use.\n",
            "  box_data = remove_na(group_data)\n"
          ],
          "name": "stderr"
        },
        {
          "output_type": "display_data",
          "data": {
            "image/png": "[encoded data removed]",
            "text/plain": [
              "<Figure size 576x396 with 1 Axes>"
            ]
          },
          "metadata": {
            "tags": []
          }
        },
        {
          "output_type": "display_data",
          "data": {
            "image/png": "[encoded data removed]",
            "text/plain": [
              "<Figure size 576x396 with 1 Axes>"
            ]
          },
          "metadata": {
            "tags": []
          }
        }
      ]
    },
    {
      "metadata": {
        "id": "3wStL96qQTIQ",
        "colab_type": "text"
      },
      "cell_type": "markdown",
      "source": [
        "#50 worst predicted counties in the US"
      ]
    },
    {
      "metadata": {
        "id": "Gdcs6D9TneSE",
        "colab_type": "code",
        "outputId": "b2853f0c-8d4a-4f99-f84a-1e3ac480e51d",
        "colab": {
          "base_uri": "https://localhost:8080/",
          "height": 901
        }
      },
      "cell_type": "code",
      "source": [
        "#50 worst predicted counties in the US\n",
        "list_worst_50 = [valid_res.sort_values(by=['Randomforest_ae'],ascending = False).head(50)['CTYNAME'].reset_index(drop=True)]\n",
        "list_worst_50"
      ],
      "execution_count": 33,
      "outputs": [
        {
          "output_type": "execute_result",
          "data": {
            "text/plain": [
              "[0              Los Angeles\n",
              " 1                     Cook\n",
              " 2                San Mateo\n",
              " 3                    Kings\n",
              " 4                  Tarrant\n",
              " 5          Portsmouth city\n",
              " 6                   Queens\n",
              " 7               Miami-Dade\n",
              " 8         Jefferson Parish\n",
              " 9                   Orange\n",
              " 10                    King\n",
              " 11                  Harris\n",
              " 12                  Dallas\n",
              " 13               Riverside\n",
              " 14                Maricopa\n",
              " 15                   Wayne\n",
              " 16                New York\n",
              " 17               Middlesex\n",
              " 18                 Suffolk\n",
              " 19              Sacramento\n",
              " 20                   Bronx\n",
              " 21                   Bexar\n",
              " 22                   Tulsa\n",
              " 23                Cuyahoga\n",
              " 24              Bernalillo\n",
              " 25                Franklin\n",
              " 26                 Oakland\n",
              " 27                Hennepin\n",
              " 28                 Fairfax\n",
              " 29            Contra Costa\n",
              " 30          San Bernardino\n",
              " 31                    Pima\n",
              " 32              Montgomery\n",
              " 33               St. Louis\n",
              " 34                  Fulton\n",
              " 35             Westchester\n",
              " 36               Milwaukee\n",
              " 37               Fairfield\n",
              " 38                  Fresno\n",
              " 39               San Diego\n",
              " 40                  Marion\n",
              " 41                  Bergen\n",
              " 42                  DuPage\n",
              " 43                    Erie\n",
              " 44         Prince George's\n",
              " 45                    Kern\n",
              " 46                  Macomb\n",
              " 47    Charlottesville city\n",
              " 48               New Haven\n",
              " 49               Middlesex\n",
              " Name: CTYNAME, dtype: object]"
            ]
          },
          "metadata": {
            "tags": []
          },
          "execution_count": 33
        }
      ]
    }
  ]
}